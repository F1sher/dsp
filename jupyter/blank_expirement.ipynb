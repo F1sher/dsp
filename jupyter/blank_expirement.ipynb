{
 "cells": [
  {
   "cell_type": "raw",
   "metadata": {
    "collapsed": true
   },
   "source": [
    "<script>\n",
    "  function code_toggle() {\n",
    "    if (code_shown){\n",
    "      $('div.input').hide('500');\n",
    "      $('#toggleButton').val('Show Code')\n",
    "    } else {\n",
    "      $('div.input').show('500');\n",
    "      $('#toggleButton').val('Hide Code')\n",
    "    }\n",
    "    code_shown = !code_shown\n",
    "  }\n",
    "\n",
    "  $( document ).ready(function(){\n",
    "    code_shown=false;\n",
    "    $('div.input').hide()\n",
    "  });\n",
    "</script>\n",
    "<form action=\"javascript:code_toggle()\"><input type=\"submit\" id=\"toggleButton\" value=\"Show Code\"></form>"
   ]
  },
  {
   "cell_type": "markdown",
   "metadata": {},
   "source": [
    "## Expirement name"
   ]
  },
  {
   "cell_type": "code",
   "execution_count": 2,
   "metadata": {},
   "outputs": [
    {
     "name": "stdout",
     "output_type": "stream",
     "text": [
      "Start of the experiment: 2017-07-25 17:19:19.697904\n"
     ]
    }
   ],
   "source": [
    "from datetime import datetime\n",
    "start_date = datetime.now()\n",
    "\n",
    "print( \"Start of the experiment: {}\".format(start_date.strftime(\"%d-%b-%y %H:%M\")) )"
   ]
  },
  {
   "cell_type": "markdown",
   "metadata": {},
   "source": [
    "### SPK foldername"
   ]
  },
  {
   "cell_type": "code",
   "execution_count": 11,
   "metadata": {},
   "outputs": [
    {
     "name": "stdout",
     "output_type": "stream",
     "text": [
      "/home/das/job/dsp/test/spectra/170724_160Tb_liquid_No5\n"
     ]
    }
   ],
   "source": [
    "spk_foldername = \"/home/das/job/dsp/test/spectra/...\"\n",
    "print(\"{}\".format(spk_foldername))"
   ]
  },
  {
   "cell_type": "markdown",
   "metadata": {},
   "source": [
    "### Config"
   ]
  },
  {
   "cell_type": "code",
   "execution_count": 8,
   "metadata": {},
   "outputs": [
    {
     "name": "stdout",
     "output_type": "stream",
     "text": [
      "{\n",
      "\t\"porog for detectors\": [120, 120, 120, 120],\n",
      "\t\"time of coincidence [ch]\": 80,\n",
      "\t\"coinc mode?\": \"True\",\n",
      "\t\"time of exposition [s]\": 72000,\n",
      "\t\"histo folder\": \"/home/das/job/dsp/test/spectra/170724_160Tb_liquid_No5\",\n",
      "\t\"en_range D1\": [230, 310, 3500, 3700],\n",
      "\t\"en_range D2\": [220, 310, 3450, 3680],\n",
      "\t\"en_range D3\": [230, 330, 3810, 4000],\n",
      "\t\"en_range D4\": [210, 280, 3100, 3270]\n",
      "}\n"
     ]
    }
   ],
   "source": [
    "import json\n",
    "\n",
    "cfg_filename = spk_foldername + \"/cfg.json\"\n",
    "with open(cfg_filename, 'r') as cfg_file:\n",
    "    cfg = cfg_file.read(2048)\n",
    "    print(cfg)"
   ]
  },
  {
   "cell_type": "markdown",
   "metadata": {},
   "source": [
    "### EN wins"
   ]
  },
  {
   "cell_type": "code",
   "execution_count": 9,
   "metadata": {},
   "outputs": [
    {
     "name": "stdout",
     "output_type": "stream",
     "text": [
      "D1 = [230, 310, 3500, 3700]\n",
      "D2 = [220, 310, 3450, 3680]\n",
      "D3 = [230, 330, 3810, 4000]\n",
      "D4 = [210, 280, 3100, 3270]\n"
     ]
    }
   ],
   "source": [
    "cfg_json = json.loads(cfg)\n",
    "for i in range(4):\n",
    "    print( \"D{} = {}\".format(i+1, cfg_json[\"en_range D{}\".format(i+1)]) )"
   ]
  },
  {
   "cell_type": "markdown",
   "metadata": {},
   "source": [
    "### Intensity"
   ]
  },
  {
   "cell_type": "markdown",
   "metadata": {},
   "source": [
    "Coinc: ~ cnt/s\n",
    "\n",
    "D1: \n",
    "\n",
    "D2:\n",
    "\n",
    "D3:\n",
    "\n",
    "D4:"
   ]
  }
 ],
 "metadata": {
  "kernelspec": {
   "display_name": "Python 3",
   "language": "python",
   "name": "python3"
  },
  "language_info": {
   "codemirror_mode": {
    "name": "ipython",
    "version": 3
   },
   "file_extension": ".py",
   "mimetype": "text/x-python",
   "name": "python",
   "nbconvert_exporter": "python",
   "pygments_lexer": "ipython3",
   "version": "3.4.3"
  }
 },
 "nbformat": 4,
 "nbformat_minor": 2
}
